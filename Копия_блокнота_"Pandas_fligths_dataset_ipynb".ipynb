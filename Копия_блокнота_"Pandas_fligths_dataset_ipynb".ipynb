{
  "cells": [
    {
      "cell_type": "markdown",
      "source": [
        "# Oтчет о задержках внутренних авиарейсов, США 2015г."
      ],
      "metadata": {
        "id": "3VYzGGc1z3tf"
      }
    },
    {
      "cell_type": "markdown",
      "source": [
        "Необходимые импорты и подготовка к работе:"
      ],
      "metadata": {
        "id": "aCDVY_x30EoC"
      }
    },
    {
      "cell_type": "code",
      "source": [
        "import pandas as pd\n",
        "import matplotlib.pyplot as plt\n",
        "import numpy as np"
      ],
      "metadata": {
        "id": "9psdQeWp0DvP"
      },
      "execution_count": 71,
      "outputs": []
    },
    {
      "cell_type": "code",
      "source": [
        "#Таблица рейсов\n",
        "df = pd.read_csv('flights.csv', dtype=str)\n",
        "df.head()"
      ],
      "metadata": {
        "colab": {
          "base_uri": "https://localhost:8080/",
          "height": 299
        },
        "id": "7zBD1SYn0lNo",
        "outputId": "90c98220-65b2-42bf-fe69-57d290c49eee"
      },
      "execution_count": 72,
      "outputs": [
        {
          "output_type": "execute_result",
          "data": {
            "text/plain": [
              "   YEAR MONTH DAY DAY_OF_WEEK AIRLINE FLIGHT_NUMBER TAIL_NUMBER  \\\n",
              "0  2015     1   1           4      AS            98      N407AS   \n",
              "1  2015     1   1           4      AA          2336      N3KUAA   \n",
              "2  2015     1   1           4      US           840      N171US   \n",
              "3  2015     1   1           4      AA           258      N3HYAA   \n",
              "4  2015     1   1           4      AS           135      N527AS   \n",
              "\n",
              "  ORIGIN_AIRPORT DESTINATION_AIRPORT SCHEDULED_DEPARTURE  ... ARRIVAL_TIME  \\\n",
              "0            ANC                 SEA                0005  ...         0408   \n",
              "1            LAX                 PBI                0010  ...         0741   \n",
              "2            SFO                 CLT                0020  ...         0811   \n",
              "3            LAX                 MIA                0020  ...         0756   \n",
              "4            SEA                 ANC                0025  ...         0259   \n",
              "\n",
              "  ARRIVAL_DELAY DIVERTED CANCELLED CANCELLATION_REASON AIR_SYSTEM_DELAY  \\\n",
              "0           -22        0         0                 NaN              NaN   \n",
              "1            -9        0         0                 NaN              NaN   \n",
              "2             5        0         0                 NaN              NaN   \n",
              "3            -9        0         0                 NaN              NaN   \n",
              "4           -21        0         0                 NaN              NaN   \n",
              "\n",
              "  SECURITY_DELAY AIRLINE_DELAY LATE_AIRCRAFT_DELAY WEATHER_DELAY  \n",
              "0            NaN           NaN                 NaN           NaN  \n",
              "1            NaN           NaN                 NaN           NaN  \n",
              "2            NaN           NaN                 NaN           NaN  \n",
              "3            NaN           NaN                 NaN           NaN  \n",
              "4            NaN           NaN                 NaN           NaN  \n",
              "\n",
              "[5 rows x 31 columns]"
            ],
            "text/html": [
              "\n",
              "  <div id=\"df-b2ccf7c8-b2b8-410f-b82c-a175367cfc64\">\n",
              "    <div class=\"colab-df-container\">\n",
              "      <div>\n",
              "<style scoped>\n",
              "    .dataframe tbody tr th:only-of-type {\n",
              "        vertical-align: middle;\n",
              "    }\n",
              "\n",
              "    .dataframe tbody tr th {\n",
              "        vertical-align: top;\n",
              "    }\n",
              "\n",
              "    .dataframe thead th {\n",
              "        text-align: right;\n",
              "    }\n",
              "</style>\n",
              "<table border=\"1\" class=\"dataframe\">\n",
              "  <thead>\n",
              "    <tr style=\"text-align: right;\">\n",
              "      <th></th>\n",
              "      <th>YEAR</th>\n",
              "      <th>MONTH</th>\n",
              "      <th>DAY</th>\n",
              "      <th>DAY_OF_WEEK</th>\n",
              "      <th>AIRLINE</th>\n",
              "      <th>FLIGHT_NUMBER</th>\n",
              "      <th>TAIL_NUMBER</th>\n",
              "      <th>ORIGIN_AIRPORT</th>\n",
              "      <th>DESTINATION_AIRPORT</th>\n",
              "      <th>SCHEDULED_DEPARTURE</th>\n",
              "      <th>...</th>\n",
              "      <th>ARRIVAL_TIME</th>\n",
              "      <th>ARRIVAL_DELAY</th>\n",
              "      <th>DIVERTED</th>\n",
              "      <th>CANCELLED</th>\n",
              "      <th>CANCELLATION_REASON</th>\n",
              "      <th>AIR_SYSTEM_DELAY</th>\n",
              "      <th>SECURITY_DELAY</th>\n",
              "      <th>AIRLINE_DELAY</th>\n",
              "      <th>LATE_AIRCRAFT_DELAY</th>\n",
              "      <th>WEATHER_DELAY</th>\n",
              "    </tr>\n",
              "  </thead>\n",
              "  <tbody>\n",
              "    <tr>\n",
              "      <th>0</th>\n",
              "      <td>2015</td>\n",
              "      <td>1</td>\n",
              "      <td>1</td>\n",
              "      <td>4</td>\n",
              "      <td>AS</td>\n",
              "      <td>98</td>\n",
              "      <td>N407AS</td>\n",
              "      <td>ANC</td>\n",
              "      <td>SEA</td>\n",
              "      <td>0005</td>\n",
              "      <td>...</td>\n",
              "      <td>0408</td>\n",
              "      <td>-22</td>\n",
              "      <td>0</td>\n",
              "      <td>0</td>\n",
              "      <td>NaN</td>\n",
              "      <td>NaN</td>\n",
              "      <td>NaN</td>\n",
              "      <td>NaN</td>\n",
              "      <td>NaN</td>\n",
              "      <td>NaN</td>\n",
              "    </tr>\n",
              "    <tr>\n",
              "      <th>1</th>\n",
              "      <td>2015</td>\n",
              "      <td>1</td>\n",
              "      <td>1</td>\n",
              "      <td>4</td>\n",
              "      <td>AA</td>\n",
              "      <td>2336</td>\n",
              "      <td>N3KUAA</td>\n",
              "      <td>LAX</td>\n",
              "      <td>PBI</td>\n",
              "      <td>0010</td>\n",
              "      <td>...</td>\n",
              "      <td>0741</td>\n",
              "      <td>-9</td>\n",
              "      <td>0</td>\n",
              "      <td>0</td>\n",
              "      <td>NaN</td>\n",
              "      <td>NaN</td>\n",
              "      <td>NaN</td>\n",
              "      <td>NaN</td>\n",
              "      <td>NaN</td>\n",
              "      <td>NaN</td>\n",
              "    </tr>\n",
              "    <tr>\n",
              "      <th>2</th>\n",
              "      <td>2015</td>\n",
              "      <td>1</td>\n",
              "      <td>1</td>\n",
              "      <td>4</td>\n",
              "      <td>US</td>\n",
              "      <td>840</td>\n",
              "      <td>N171US</td>\n",
              "      <td>SFO</td>\n",
              "      <td>CLT</td>\n",
              "      <td>0020</td>\n",
              "      <td>...</td>\n",
              "      <td>0811</td>\n",
              "      <td>5</td>\n",
              "      <td>0</td>\n",
              "      <td>0</td>\n",
              "      <td>NaN</td>\n",
              "      <td>NaN</td>\n",
              "      <td>NaN</td>\n",
              "      <td>NaN</td>\n",
              "      <td>NaN</td>\n",
              "      <td>NaN</td>\n",
              "    </tr>\n",
              "    <tr>\n",
              "      <th>3</th>\n",
              "      <td>2015</td>\n",
              "      <td>1</td>\n",
              "      <td>1</td>\n",
              "      <td>4</td>\n",
              "      <td>AA</td>\n",
              "      <td>258</td>\n",
              "      <td>N3HYAA</td>\n",
              "      <td>LAX</td>\n",
              "      <td>MIA</td>\n",
              "      <td>0020</td>\n",
              "      <td>...</td>\n",
              "      <td>0756</td>\n",
              "      <td>-9</td>\n",
              "      <td>0</td>\n",
              "      <td>0</td>\n",
              "      <td>NaN</td>\n",
              "      <td>NaN</td>\n",
              "      <td>NaN</td>\n",
              "      <td>NaN</td>\n",
              "      <td>NaN</td>\n",
              "      <td>NaN</td>\n",
              "    </tr>\n",
              "    <tr>\n",
              "      <th>4</th>\n",
              "      <td>2015</td>\n",
              "      <td>1</td>\n",
              "      <td>1</td>\n",
              "      <td>4</td>\n",
              "      <td>AS</td>\n",
              "      <td>135</td>\n",
              "      <td>N527AS</td>\n",
              "      <td>SEA</td>\n",
              "      <td>ANC</td>\n",
              "      <td>0025</td>\n",
              "      <td>...</td>\n",
              "      <td>0259</td>\n",
              "      <td>-21</td>\n",
              "      <td>0</td>\n",
              "      <td>0</td>\n",
              "      <td>NaN</td>\n",
              "      <td>NaN</td>\n",
              "      <td>NaN</td>\n",
              "      <td>NaN</td>\n",
              "      <td>NaN</td>\n",
              "      <td>NaN</td>\n",
              "    </tr>\n",
              "  </tbody>\n",
              "</table>\n",
              "<p>5 rows × 31 columns</p>\n",
              "</div>\n",
              "      <button class=\"colab-df-convert\" onclick=\"convertToInteractive('df-b2ccf7c8-b2b8-410f-b82c-a175367cfc64')\"\n",
              "              title=\"Convert this dataframe to an interactive table.\"\n",
              "              style=\"display:none;\">\n",
              "        \n",
              "  <svg xmlns=\"http://www.w3.org/2000/svg\" height=\"24px\"viewBox=\"0 0 24 24\"\n",
              "       width=\"24px\">\n",
              "    <path d=\"M0 0h24v24H0V0z\" fill=\"none\"/>\n",
              "    <path d=\"M18.56 5.44l.94 2.06.94-2.06 2.06-.94-2.06-.94-.94-2.06-.94 2.06-2.06.94zm-11 1L8.5 8.5l.94-2.06 2.06-.94-2.06-.94L8.5 2.5l-.94 2.06-2.06.94zm10 10l.94 2.06.94-2.06 2.06-.94-2.06-.94-.94-2.06-.94 2.06-2.06.94z\"/><path d=\"M17.41 7.96l-1.37-1.37c-.4-.4-.92-.59-1.43-.59-.52 0-1.04.2-1.43.59L10.3 9.45l-7.72 7.72c-.78.78-.78 2.05 0 2.83L4 21.41c.39.39.9.59 1.41.59.51 0 1.02-.2 1.41-.59l7.78-7.78 2.81-2.81c.8-.78.8-2.07 0-2.86zM5.41 20L4 18.59l7.72-7.72 1.47 1.35L5.41 20z\"/>\n",
              "  </svg>\n",
              "      </button>\n",
              "      \n",
              "  <style>\n",
              "    .colab-df-container {\n",
              "      display:flex;\n",
              "      flex-wrap:wrap;\n",
              "      gap: 12px;\n",
              "    }\n",
              "\n",
              "    .colab-df-convert {\n",
              "      background-color: #E8F0FE;\n",
              "      border: none;\n",
              "      border-radius: 50%;\n",
              "      cursor: pointer;\n",
              "      display: none;\n",
              "      fill: #1967D2;\n",
              "      height: 32px;\n",
              "      padding: 0 0 0 0;\n",
              "      width: 32px;\n",
              "    }\n",
              "\n",
              "    .colab-df-convert:hover {\n",
              "      background-color: #E2EBFA;\n",
              "      box-shadow: 0px 1px 2px rgba(60, 64, 67, 0.3), 0px 1px 3px 1px rgba(60, 64, 67, 0.15);\n",
              "      fill: #174EA6;\n",
              "    }\n",
              "\n",
              "    [theme=dark] .colab-df-convert {\n",
              "      background-color: #3B4455;\n",
              "      fill: #D2E3FC;\n",
              "    }\n",
              "\n",
              "    [theme=dark] .colab-df-convert:hover {\n",
              "      background-color: #434B5C;\n",
              "      box-shadow: 0px 1px 3px 1px rgba(0, 0, 0, 0.15);\n",
              "      filter: drop-shadow(0px 1px 2px rgba(0, 0, 0, 0.3));\n",
              "      fill: #FFFFFF;\n",
              "    }\n",
              "  </style>\n",
              "\n",
              "      <script>\n",
              "        const buttonEl =\n",
              "          document.querySelector('#df-b2ccf7c8-b2b8-410f-b82c-a175367cfc64 button.colab-df-convert');\n",
              "        buttonEl.style.display =\n",
              "          google.colab.kernel.accessAllowed ? 'block' : 'none';\n",
              "\n",
              "        async function convertToInteractive(key) {\n",
              "          const element = document.querySelector('#df-b2ccf7c8-b2b8-410f-b82c-a175367cfc64');\n",
              "          const dataTable =\n",
              "            await google.colab.kernel.invokeFunction('convertToInteractive',\n",
              "                                                     [key], {});\n",
              "          if (!dataTable) return;\n",
              "\n",
              "          const docLinkHtml = 'Like what you see? Visit the ' +\n",
              "            '<a target=\"_blank\" href=https://colab.research.google.com/notebooks/data_table.ipynb>data table notebook</a>'\n",
              "            + ' to learn more about interactive tables.';\n",
              "          element.innerHTML = '';\n",
              "          dataTable['output_type'] = 'display_data';\n",
              "          await google.colab.output.renderOutput(dataTable, element);\n",
              "          const docLink = document.createElement('div');\n",
              "          docLink.innerHTML = docLinkHtml;\n",
              "          element.appendChild(docLink);\n",
              "        }\n",
              "      </script>\n",
              "    </div>\n",
              "  </div>\n",
              "  "
            ]
          },
          "metadata": {},
          "execution_count": 72
        }
      ]
    },
    {
      "cell_type": "code",
      "source": [
        "#Таблица аэропортов\n",
        "airports = pd.read_csv('airports.csv')\n",
        "airports.head()"
      ],
      "metadata": {
        "colab": {
          "base_uri": "https://localhost:8080/",
          "height": 206
        },
        "id": "5YMbImdE4mwK",
        "outputId": "eb9d2ddc-79d9-4224-e455-de8983d0cec3"
      },
      "execution_count": 73,
      "outputs": [
        {
          "output_type": "execute_result",
          "data": {
            "text/plain": [
              "  IATA_CODE                              AIRPORT         CITY STATE COUNTRY  \\\n",
              "0       ABE  Lehigh Valley International Airport    Allentown    PA     USA   \n",
              "1       ABI             Abilene Regional Airport      Abilene    TX     USA   \n",
              "2       ABQ    Albuquerque International Sunport  Albuquerque    NM     USA   \n",
              "3       ABR            Aberdeen Regional Airport     Aberdeen    SD     USA   \n",
              "4       ABY   Southwest Georgia Regional Airport       Albany    GA     USA   \n",
              "\n",
              "   LATITUDE  LONGITUDE  \n",
              "0  40.65236  -75.44040  \n",
              "1  32.41132  -99.68190  \n",
              "2  35.04022 -106.60919  \n",
              "3  45.44906  -98.42183  \n",
              "4  31.53552  -84.19447  "
            ],
            "text/html": [
              "\n",
              "  <div id=\"df-94535e2a-30cd-4660-b707-e4a29264b42e\">\n",
              "    <div class=\"colab-df-container\">\n",
              "      <div>\n",
              "<style scoped>\n",
              "    .dataframe tbody tr th:only-of-type {\n",
              "        vertical-align: middle;\n",
              "    }\n",
              "\n",
              "    .dataframe tbody tr th {\n",
              "        vertical-align: top;\n",
              "    }\n",
              "\n",
              "    .dataframe thead th {\n",
              "        text-align: right;\n",
              "    }\n",
              "</style>\n",
              "<table border=\"1\" class=\"dataframe\">\n",
              "  <thead>\n",
              "    <tr style=\"text-align: right;\">\n",
              "      <th></th>\n",
              "      <th>IATA_CODE</th>\n",
              "      <th>AIRPORT</th>\n",
              "      <th>CITY</th>\n",
              "      <th>STATE</th>\n",
              "      <th>COUNTRY</th>\n",
              "      <th>LATITUDE</th>\n",
              "      <th>LONGITUDE</th>\n",
              "    </tr>\n",
              "  </thead>\n",
              "  <tbody>\n",
              "    <tr>\n",
              "      <th>0</th>\n",
              "      <td>ABE</td>\n",
              "      <td>Lehigh Valley International Airport</td>\n",
              "      <td>Allentown</td>\n",
              "      <td>PA</td>\n",
              "      <td>USA</td>\n",
              "      <td>40.65236</td>\n",
              "      <td>-75.44040</td>\n",
              "    </tr>\n",
              "    <tr>\n",
              "      <th>1</th>\n",
              "      <td>ABI</td>\n",
              "      <td>Abilene Regional Airport</td>\n",
              "      <td>Abilene</td>\n",
              "      <td>TX</td>\n",
              "      <td>USA</td>\n",
              "      <td>32.41132</td>\n",
              "      <td>-99.68190</td>\n",
              "    </tr>\n",
              "    <tr>\n",
              "      <th>2</th>\n",
              "      <td>ABQ</td>\n",
              "      <td>Albuquerque International Sunport</td>\n",
              "      <td>Albuquerque</td>\n",
              "      <td>NM</td>\n",
              "      <td>USA</td>\n",
              "      <td>35.04022</td>\n",
              "      <td>-106.60919</td>\n",
              "    </tr>\n",
              "    <tr>\n",
              "      <th>3</th>\n",
              "      <td>ABR</td>\n",
              "      <td>Aberdeen Regional Airport</td>\n",
              "      <td>Aberdeen</td>\n",
              "      <td>SD</td>\n",
              "      <td>USA</td>\n",
              "      <td>45.44906</td>\n",
              "      <td>-98.42183</td>\n",
              "    </tr>\n",
              "    <tr>\n",
              "      <th>4</th>\n",
              "      <td>ABY</td>\n",
              "      <td>Southwest Georgia Regional Airport</td>\n",
              "      <td>Albany</td>\n",
              "      <td>GA</td>\n",
              "      <td>USA</td>\n",
              "      <td>31.53552</td>\n",
              "      <td>-84.19447</td>\n",
              "    </tr>\n",
              "  </tbody>\n",
              "</table>\n",
              "</div>\n",
              "      <button class=\"colab-df-convert\" onclick=\"convertToInteractive('df-94535e2a-30cd-4660-b707-e4a29264b42e')\"\n",
              "              title=\"Convert this dataframe to an interactive table.\"\n",
              "              style=\"display:none;\">\n",
              "        \n",
              "  <svg xmlns=\"http://www.w3.org/2000/svg\" height=\"24px\"viewBox=\"0 0 24 24\"\n",
              "       width=\"24px\">\n",
              "    <path d=\"M0 0h24v24H0V0z\" fill=\"none\"/>\n",
              "    <path d=\"M18.56 5.44l.94 2.06.94-2.06 2.06-.94-2.06-.94-.94-2.06-.94 2.06-2.06.94zm-11 1L8.5 8.5l.94-2.06 2.06-.94-2.06-.94L8.5 2.5l-.94 2.06-2.06.94zm10 10l.94 2.06.94-2.06 2.06-.94-2.06-.94-.94-2.06-.94 2.06-2.06.94z\"/><path d=\"M17.41 7.96l-1.37-1.37c-.4-.4-.92-.59-1.43-.59-.52 0-1.04.2-1.43.59L10.3 9.45l-7.72 7.72c-.78.78-.78 2.05 0 2.83L4 21.41c.39.39.9.59 1.41.59.51 0 1.02-.2 1.41-.59l7.78-7.78 2.81-2.81c.8-.78.8-2.07 0-2.86zM5.41 20L4 18.59l7.72-7.72 1.47 1.35L5.41 20z\"/>\n",
              "  </svg>\n",
              "      </button>\n",
              "      \n",
              "  <style>\n",
              "    .colab-df-container {\n",
              "      display:flex;\n",
              "      flex-wrap:wrap;\n",
              "      gap: 12px;\n",
              "    }\n",
              "\n",
              "    .colab-df-convert {\n",
              "      background-color: #E8F0FE;\n",
              "      border: none;\n",
              "      border-radius: 50%;\n",
              "      cursor: pointer;\n",
              "      display: none;\n",
              "      fill: #1967D2;\n",
              "      height: 32px;\n",
              "      padding: 0 0 0 0;\n",
              "      width: 32px;\n",
              "    }\n",
              "\n",
              "    .colab-df-convert:hover {\n",
              "      background-color: #E2EBFA;\n",
              "      box-shadow: 0px 1px 2px rgba(60, 64, 67, 0.3), 0px 1px 3px 1px rgba(60, 64, 67, 0.15);\n",
              "      fill: #174EA6;\n",
              "    }\n",
              "\n",
              "    [theme=dark] .colab-df-convert {\n",
              "      background-color: #3B4455;\n",
              "      fill: #D2E3FC;\n",
              "    }\n",
              "\n",
              "    [theme=dark] .colab-df-convert:hover {\n",
              "      background-color: #434B5C;\n",
              "      box-shadow: 0px 1px 3px 1px rgba(0, 0, 0, 0.15);\n",
              "      filter: drop-shadow(0px 1px 2px rgba(0, 0, 0, 0.3));\n",
              "      fill: #FFFFFF;\n",
              "    }\n",
              "  </style>\n",
              "\n",
              "      <script>\n",
              "        const buttonEl =\n",
              "          document.querySelector('#df-94535e2a-30cd-4660-b707-e4a29264b42e button.colab-df-convert');\n",
              "        buttonEl.style.display =\n",
              "          google.colab.kernel.accessAllowed ? 'block' : 'none';\n",
              "\n",
              "        async function convertToInteractive(key) {\n",
              "          const element = document.querySelector('#df-94535e2a-30cd-4660-b707-e4a29264b42e');\n",
              "          const dataTable =\n",
              "            await google.colab.kernel.invokeFunction('convertToInteractive',\n",
              "                                                     [key], {});\n",
              "          if (!dataTable) return;\n",
              "\n",
              "          const docLinkHtml = 'Like what you see? Visit the ' +\n",
              "            '<a target=\"_blank\" href=https://colab.research.google.com/notebooks/data_table.ipynb>data table notebook</a>'\n",
              "            + ' to learn more about interactive tables.';\n",
              "          element.innerHTML = '';\n",
              "          dataTable['output_type'] = 'display_data';\n",
              "          await google.colab.output.renderOutput(dataTable, element);\n",
              "          const docLink = document.createElement('div');\n",
              "          docLink.innerHTML = docLinkHtml;\n",
              "          element.appendChild(docLink);\n",
              "        }\n",
              "      </script>\n",
              "    </div>\n",
              "  </div>\n",
              "  "
            ]
          },
          "metadata": {},
          "execution_count": 73
        }
      ]
    },
    {
      "cell_type": "code",
      "source": [
        "#Таблица авиалиний\n",
        "airlines = pd.read_csv('airlines.csv')\n",
        "airlines.head()"
      ],
      "metadata": {
        "colab": {
          "base_uri": "https://localhost:8080/",
          "height": 206
        },
        "id": "zSUwFpPC4t1A",
        "outputId": "099d836f-d6bc-4cf6-a698-f8fb9ce648b6"
      },
      "execution_count": 74,
      "outputs": [
        {
          "output_type": "execute_result",
          "data": {
            "text/plain": [
              "  IATA_CODE                 AIRLINE\n",
              "0        UA   United Air Lines Inc.\n",
              "1        AA  American Airlines Inc.\n",
              "2        US         US Airways Inc.\n",
              "3        F9  Frontier Airlines Inc.\n",
              "4        B6         JetBlue Airways"
            ],
            "text/html": [
              "\n",
              "  <div id=\"df-afb1849f-7dd1-41b7-af1a-0e9dcb1b64c7\">\n",
              "    <div class=\"colab-df-container\">\n",
              "      <div>\n",
              "<style scoped>\n",
              "    .dataframe tbody tr th:only-of-type {\n",
              "        vertical-align: middle;\n",
              "    }\n",
              "\n",
              "    .dataframe tbody tr th {\n",
              "        vertical-align: top;\n",
              "    }\n",
              "\n",
              "    .dataframe thead th {\n",
              "        text-align: right;\n",
              "    }\n",
              "</style>\n",
              "<table border=\"1\" class=\"dataframe\">\n",
              "  <thead>\n",
              "    <tr style=\"text-align: right;\">\n",
              "      <th></th>\n",
              "      <th>IATA_CODE</th>\n",
              "      <th>AIRLINE</th>\n",
              "    </tr>\n",
              "  </thead>\n",
              "  <tbody>\n",
              "    <tr>\n",
              "      <th>0</th>\n",
              "      <td>UA</td>\n",
              "      <td>United Air Lines Inc.</td>\n",
              "    </tr>\n",
              "    <tr>\n",
              "      <th>1</th>\n",
              "      <td>AA</td>\n",
              "      <td>American Airlines Inc.</td>\n",
              "    </tr>\n",
              "    <tr>\n",
              "      <th>2</th>\n",
              "      <td>US</td>\n",
              "      <td>US Airways Inc.</td>\n",
              "    </tr>\n",
              "    <tr>\n",
              "      <th>3</th>\n",
              "      <td>F9</td>\n",
              "      <td>Frontier Airlines Inc.</td>\n",
              "    </tr>\n",
              "    <tr>\n",
              "      <th>4</th>\n",
              "      <td>B6</td>\n",
              "      <td>JetBlue Airways</td>\n",
              "    </tr>\n",
              "  </tbody>\n",
              "</table>\n",
              "</div>\n",
              "      <button class=\"colab-df-convert\" onclick=\"convertToInteractive('df-afb1849f-7dd1-41b7-af1a-0e9dcb1b64c7')\"\n",
              "              title=\"Convert this dataframe to an interactive table.\"\n",
              "              style=\"display:none;\">\n",
              "        \n",
              "  <svg xmlns=\"http://www.w3.org/2000/svg\" height=\"24px\"viewBox=\"0 0 24 24\"\n",
              "       width=\"24px\">\n",
              "    <path d=\"M0 0h24v24H0V0z\" fill=\"none\"/>\n",
              "    <path d=\"M18.56 5.44l.94 2.06.94-2.06 2.06-.94-2.06-.94-.94-2.06-.94 2.06-2.06.94zm-11 1L8.5 8.5l.94-2.06 2.06-.94-2.06-.94L8.5 2.5l-.94 2.06-2.06.94zm10 10l.94 2.06.94-2.06 2.06-.94-2.06-.94-.94-2.06-.94 2.06-2.06.94z\"/><path d=\"M17.41 7.96l-1.37-1.37c-.4-.4-.92-.59-1.43-.59-.52 0-1.04.2-1.43.59L10.3 9.45l-7.72 7.72c-.78.78-.78 2.05 0 2.83L4 21.41c.39.39.9.59 1.41.59.51 0 1.02-.2 1.41-.59l7.78-7.78 2.81-2.81c.8-.78.8-2.07 0-2.86zM5.41 20L4 18.59l7.72-7.72 1.47 1.35L5.41 20z\"/>\n",
              "  </svg>\n",
              "      </button>\n",
              "      \n",
              "  <style>\n",
              "    .colab-df-container {\n",
              "      display:flex;\n",
              "      flex-wrap:wrap;\n",
              "      gap: 12px;\n",
              "    }\n",
              "\n",
              "    .colab-df-convert {\n",
              "      background-color: #E8F0FE;\n",
              "      border: none;\n",
              "      border-radius: 50%;\n",
              "      cursor: pointer;\n",
              "      display: none;\n",
              "      fill: #1967D2;\n",
              "      height: 32px;\n",
              "      padding: 0 0 0 0;\n",
              "      width: 32px;\n",
              "    }\n",
              "\n",
              "    .colab-df-convert:hover {\n",
              "      background-color: #E2EBFA;\n",
              "      box-shadow: 0px 1px 2px rgba(60, 64, 67, 0.3), 0px 1px 3px 1px rgba(60, 64, 67, 0.15);\n",
              "      fill: #174EA6;\n",
              "    }\n",
              "\n",
              "    [theme=dark] .colab-df-convert {\n",
              "      background-color: #3B4455;\n",
              "      fill: #D2E3FC;\n",
              "    }\n",
              "\n",
              "    [theme=dark] .colab-df-convert:hover {\n",
              "      background-color: #434B5C;\n",
              "      box-shadow: 0px 1px 3px 1px rgba(0, 0, 0, 0.15);\n",
              "      filter: drop-shadow(0px 1px 2px rgba(0, 0, 0, 0.3));\n",
              "      fill: #FFFFFF;\n",
              "    }\n",
              "  </style>\n",
              "\n",
              "      <script>\n",
              "        const buttonEl =\n",
              "          document.querySelector('#df-afb1849f-7dd1-41b7-af1a-0e9dcb1b64c7 button.colab-df-convert');\n",
              "        buttonEl.style.display =\n",
              "          google.colab.kernel.accessAllowed ? 'block' : 'none';\n",
              "\n",
              "        async function convertToInteractive(key) {\n",
              "          const element = document.querySelector('#df-afb1849f-7dd1-41b7-af1a-0e9dcb1b64c7');\n",
              "          const dataTable =\n",
              "            await google.colab.kernel.invokeFunction('convertToInteractive',\n",
              "                                                     [key], {});\n",
              "          if (!dataTable) return;\n",
              "\n",
              "          const docLinkHtml = 'Like what you see? Visit the ' +\n",
              "            '<a target=\"_blank\" href=https://colab.research.google.com/notebooks/data_table.ipynb>data table notebook</a>'\n",
              "            + ' to learn more about interactive tables.';\n",
              "          element.innerHTML = '';\n",
              "          dataTable['output_type'] = 'display_data';\n",
              "          await google.colab.output.renderOutput(dataTable, element);\n",
              "          const docLink = document.createElement('div');\n",
              "          docLink.innerHTML = docLinkHtml;\n",
              "          element.appendChild(docLink);\n",
              "        }\n",
              "      </script>\n",
              "    </div>\n",
              "  </div>\n",
              "  "
            ]
          },
          "metadata": {},
          "execution_count": 74
        }
      ]
    },
    {
      "cell_type": "markdown",
      "source": [
        "Будем работать только с рейсами с задержкой:"
      ],
      "metadata": {
        "id": "ioo1Q1sE5_O6"
      }
    },
    {
      "cell_type": "code",
      "source": [
        "df = df.loc[~df[['DEPARTURE_TIME', 'ARRIVAL_TIME', 'ARRIVAL_DELAY']].isna().any(axis=1)]\n",
        "df.ARRIVAL_DELAY = df.ARRIVAL_DELAY.astype(float)\n",
        "df.DEPARTURE_DELAY = df.DEPARTURE_DELAY.astype(float)\n",
        "df = df[df['ARRIVAL_DELAY'] > 0]\n",
        "df = df[df['DEPARTURE_DELAY'] > 0]"
      ],
      "metadata": {
        "id": "3I7bIzOU5xmv"
      },
      "execution_count": 75,
      "outputs": []
    },
    {
      "cell_type": "markdown",
      "source": [
        "# Связь задержки рейса с временем вылета?"
      ],
      "metadata": {
        "id": "6b00ROAk6T7C"
      }
    },
    {
      "cell_type": "code",
      "source": [
        "df['SCHEDULED_DEPARTURE_HOUR']=df['SCHEDULED_DEPARTURE'].apply(lambda x: int(x[0:2]))\n",
        "df.SCHEDULED_DEPARTURE_HOUR = df.SCHEDULED_DEPARTURE_HOUR.astype(int)\n",
        "\n",
        "plt.figure(figsize=(10, 8))\n",
        "df.groupby('SCHEDULED_DEPARTURE_HOUR')['ARRIVAL_DELAY'].mean().plot(kind='bar', xlabel='Время дня', ylabel='Задержка, минуты', title='Средняя задержка в зависимости от времени суток', color='blue')\n",
        "plt.show()"
      ],
      "metadata": {
        "colab": {
          "base_uri": "https://localhost:8080/",
          "height": 516
        },
        "id": "bCIHany26fw3",
        "outputId": "f4221f63-61ff-4615-d100-0a38bcfa5222"
      },
      "execution_count": 89,
      "outputs": [
        {
          "output_type": "display_data",
          "data": {
            "text/plain": [
              "<Figure size 720x576 with 1 Axes>"
            ],
            "image/png": "[encoded data removed]"
          },
          "metadata": {
            "needs_background": "light"
          }
        }
      ]
    },
    {
      "cell_type": "markdown",
      "source": [
        "Наибольшая задержка наблюдается в 2-3 ночи, вероятно это связано с концом рабочего дня сотрудников аэропортов/авиалиний. Т.е. происходит смена \"дневных\" служащих на \"ночных\"."
      ],
      "metadata": {
        "id": "d069Y8XA86GK"
      }
    },
    {
      "cell_type": "markdown",
      "source": [
        "# Связь задержки рейса со временем года?"
      ],
      "metadata": {
        "id": "-4FFl3Kv9izf"
      }
    },
    {
      "cell_type": "code",
      "source": [
        "df['DATE'] = pd.to_datetime(df[['YEAR', 'MONTH', 'DAY']])\n",
        "winter_len = len(df.loc[(\"2015-12-01\" <= df['DATE']) | ((df['DATE'] <= \"2015-01-31\"))])\n",
        "spring_len = len(df.loc[(\"2015-03-01\" <= df['DATE']) & (df['DATE'] <= \"2015-05-31\")])\n",
        "summer_len = len(df.loc[(\"2015-06-01\" <= df['DATE']) & (df['DATE'] <= \"2015-08-31\")])\n",
        "autumn_len = len(df.loc[(\"2015-09-01\" <= df['DATE']) & (df['DATE'] <= \"2015-11-30\")])\n",
        "\n",
        "winter_delay = df.loc[(\"2015-12-01\" <= df['DATE']) | (df['DATE'] <= \"2015-01-31\")][[\"WEATHER_DELAY\"]].isna().any(axis=1).sum()\n",
        "spring_delay = df.loc[(\"2015-03-01\" <= df['DATE']) & (df['DATE'] <= \"2015-05-31\")][[\"WEATHER_DELAY\"]].isna().any(axis=1).sum()\n",
        "summer_delay = df.loc[(\"2015-06-01\" <= df['DATE']) & (df['DATE'] <= \"2015-08-31\")][[\"WEATHER_DELAY\"]].isna().any(axis=1).sum()\n",
        "autumn_delay = df.loc[(\"2015-09-01\" <= df['DATE']) & (df['DATE'] <= \"2015-11-30\")][[\"WEATHER_DELAY\"]].isna().any(axis=1).sum()\n",
        "\n",
        "m_delay = np.asarray([winter_delay, spring_delay, summer_delay, autumn_delay]) #всего рейсов\n",
        "m_len = np.asarray([winter_len, spring_len, summer_len, autumn_len]) #колво задержанных рейсов\n",
        "\n",
        "_, ax = plt.subplots()\n",
        "ax.bar([\"Зима\" , \"Весна\", \"Лето\",  \"Осень\"], np.ones(4))\n",
        "ax.bar([\"Зима\" , \"Весна\", \"Лето\",  \"Осень\"], np.divide(m_delay,m_len))\n",
        "ax.set_title(\"Доля задержанных рейсов\")\n",
        "ax.set_xlabel(\"Сезон\")\n",
        "plt.show()"
      ],
      "metadata": {
        "colab": {
          "base_uri": "https://localhost:8080/",
          "height": 295
        },
        "id": "ycHoID1P95ZT",
        "outputId": "16f72144-064c-4f9b-a143-e91cd6fc38b0"
      },
      "execution_count": 86,
      "outputs": [
        {
          "output_type": "display_data",
          "data": {
            "text/plain": [
              "<Figure size 432x288 with 1 Axes>"
            ],
            "image/png": "[encoded data removed]"
          },
          "metadata": {
            "needs_background": "light"
          }
        }
      ]
    },
    {
      "cell_type": "markdown",
      "source": [
        "Процент задержанных рейсов осенью и весной возрастает (но не значительно) - это связано с частой изменчивостью погоды, необходимо проводить более точный метеопрогноз."
      ],
      "metadata": {
        "id": "UTEXAhJDFgo4"
      }
    },
    {
      "cell_type": "markdown",
      "source": [
        "# Зависимость задержки от авиакомпании?"
      ],
      "metadata": {
        "id": "7B3UFpWSF0CV"
      }
    },
    {
      "cell_type": "code",
      "source": [
        "#оставляем только индексы авиакомпаний\n",
        "df = df.loc[(df.AIRLINE.apply(len) == 2)]\n",
        "#сортировка по средней задержке\n",
        "ad = df.groupby('AIRLINE').mean(numeric_only=True)['DEPARTURE_DELAY'].sort_values()\n",
        "\n",
        "plt.figure(figsize=(10, 8))\n",
        "plt.barh(y = ad.index, width = ad.values, color = 'purple')\n",
        "plt.xlabel(\"Средняя задержка, минуты\")\n",
        "plt.ylabel(\"Авиакомпания\")\n",
        "plt.title(\"Средняя задержка отправлений по компаниям\")\n",
        "plt.show()\n",
        "airlines"
      ],
      "metadata": {
        "colab": {
          "base_uri": "https://localhost:8080/",
          "height": 984
        },
        "id": "2fmIT99iGJXH",
        "outputId": "f8b52ca8-4fe9-4fb2-8836-6571455eeb22"
      },
      "execution_count": 93,
      "outputs": [
        {
          "output_type": "display_data",
          "data": {
            "text/plain": [
              "<Figure size 720x576 with 1 Axes>"
            ],
            "image/png": "[encoded data removed]"
          },
          "metadata": {
            "needs_background": "light"
          }
        },
        {
          "output_type": "execute_result",
          "data": {
            "text/plain": [
              "   IATA_CODE                       AIRLINE\n",
              "0         UA         United Air Lines Inc.\n",
              "1         AA        American Airlines Inc.\n",
              "2         US               US Airways Inc.\n",
              "3         F9        Frontier Airlines Inc.\n",
              "4         B6               JetBlue Airways\n",
              "5         OO         Skywest Airlines Inc.\n",
              "6         AS          Alaska Airlines Inc.\n",
              "7         NK              Spirit Air Lines\n",
              "8         WN        Southwest Airlines Co.\n",
              "9         DL          Delta Air Lines Inc.\n",
              "10        EV   Atlantic Southeast Airlines\n",
              "11        HA        Hawaiian Airlines Inc.\n",
              "12        MQ  American Eagle Airlines Inc.\n",
              "13        VX                Virgin America"
            ],
            "text/html": [
              "\n",
              "  <div id=\"df-d7fb413e-faca-44f3-a9b0-86fb15292bea\">\n",
              "    <div class=\"colab-df-container\">\n",
              "      <div>\n",
              "<style scoped>\n",
              "    .dataframe tbody tr th:only-of-type {\n",
              "        vertical-align: middle;\n",
              "    }\n",
              "\n",
              "    .dataframe tbody tr th {\n",
              "        vertical-align: top;\n",
              "    }\n",
              "\n",
              "    .dataframe thead th {\n",
              "        text-align: right;\n",
              "    }\n",
              "</style>\n",
              "<table border=\"1\" class=\"dataframe\">\n",
              "  <thead>\n",
              "    <tr style=\"text-align: right;\">\n",
              "      <th></th>\n",
              "      <th>IATA_CODE</th>\n",
              "      <th>AIRLINE</th>\n",
              "    </tr>\n",
              "  </thead>\n",
              "  <tbody>\n",
              "    <tr>\n",
              "      <th>0</th>\n",
              "      <td>UA</td>\n",
              "      <td>United Air Lines Inc.</td>\n",
              "    </tr>\n",
              "    <tr>\n",
              "      <th>1</th>\n",
              "      <td>AA</td>\n",
              "      <td>American Airlines Inc.</td>\n",
              "    </tr>\n",
              "    <tr>\n",
              "      <th>2</th>\n",
              "      <td>US</td>\n",
              "      <td>US Airways Inc.</td>\n",
              "    </tr>\n",
              "    <tr>\n",
              "      <th>3</th>\n",
              "      <td>F9</td>\n",
              "      <td>Frontier Airlines Inc.</td>\n",
              "    </tr>\n",
              "    <tr>\n",
              "      <th>4</th>\n",
              "      <td>B6</td>\n",
              "      <td>JetBlue Airways</td>\n",
              "    </tr>\n",
              "    <tr>\n",
              "      <th>5</th>\n",
              "      <td>OO</td>\n",
              "      <td>Skywest Airlines Inc.</td>\n",
              "    </tr>\n",
              "    <tr>\n",
              "      <th>6</th>\n",
              "      <td>AS</td>\n",
              "      <td>Alaska Airlines Inc.</td>\n",
              "    </tr>\n",
              "    <tr>\n",
              "      <th>7</th>\n",
              "      <td>NK</td>\n",
              "      <td>Spirit Air Lines</td>\n",
              "    </tr>\n",
              "    <tr>\n",
              "      <th>8</th>\n",
              "      <td>WN</td>\n",
              "      <td>Southwest Airlines Co.</td>\n",
              "    </tr>\n",
              "    <tr>\n",
              "      <th>9</th>\n",
              "      <td>DL</td>\n",
              "      <td>Delta Air Lines Inc.</td>\n",
              "    </tr>\n",
              "    <tr>\n",
              "      <th>10</th>\n",
              "      <td>EV</td>\n",
              "      <td>Atlantic Southeast Airlines</td>\n",
              "    </tr>\n",
              "    <tr>\n",
              "      <th>11</th>\n",
              "      <td>HA</td>\n",
              "      <td>Hawaiian Airlines Inc.</td>\n",
              "    </tr>\n",
              "    <tr>\n",
              "      <th>12</th>\n",
              "      <td>MQ</td>\n",
              "      <td>American Eagle Airlines Inc.</td>\n",
              "    </tr>\n",
              "    <tr>\n",
              "      <th>13</th>\n",
              "      <td>VX</td>\n",
              "      <td>Virgin America</td>\n",
              "    </tr>\n",
              "  </tbody>\n",
              "</table>\n",
              "</div>\n",
              "      <button class=\"colab-df-convert\" onclick=\"convertToInteractive('df-d7fb413e-faca-44f3-a9b0-86fb15292bea')\"\n",
              "              title=\"Convert this dataframe to an interactive table.\"\n",
              "              style=\"display:none;\">\n",
              "        \n",
              "  <svg xmlns=\"http://www.w3.org/2000/svg\" height=\"24px\"viewBox=\"0 0 24 24\"\n",
              "       width=\"24px\">\n",
              "    <path d=\"M0 0h24v24H0V0z\" fill=\"none\"/>\n",
              "    <path d=\"M18.56 5.44l.94 2.06.94-2.06 2.06-.94-2.06-.94-.94-2.06-.94 2.06-2.06.94zm-11 1L8.5 8.5l.94-2.06 2.06-.94-2.06-.94L8.5 2.5l-.94 2.06-2.06.94zm10 10l.94 2.06.94-2.06 2.06-.94-2.06-.94-.94-2.06-.94 2.06-2.06.94z\"/><path d=\"M17.41 7.96l-1.37-1.37c-.4-.4-.92-.59-1.43-.59-.52 0-1.04.2-1.43.59L10.3 9.45l-7.72 7.72c-.78.78-.78 2.05 0 2.83L4 21.41c.39.39.9.59 1.41.59.51 0 1.02-.2 1.41-.59l7.78-7.78 2.81-2.81c.8-.78.8-2.07 0-2.86zM5.41 20L4 18.59l7.72-7.72 1.47 1.35L5.41 20z\"/>\n",
              "  </svg>\n",
              "      </button>\n",
              "      \n",
              "  <style>\n",
              "    .colab-df-container {\n",
              "      display:flex;\n",
              "      flex-wrap:wrap;\n",
              "      gap: 12px;\n",
              "    }\n",
              "\n",
              "    .colab-df-convert {\n",
              "      background-color: #E8F0FE;\n",
              "      border: none;\n",
              "      border-radius: 50%;\n",
              "      cursor: pointer;\n",
              "      display: none;\n",
              "      fill: #1967D2;\n",
              "      height: 32px;\n",
              "      padding: 0 0 0 0;\n",
              "      width: 32px;\n",
              "    }\n",
              "\n",
              "    .colab-df-convert:hover {\n",
              "      background-color: #E2EBFA;\n",
              "      box-shadow: 0px 1px 2px rgba(60, 64, 67, 0.3), 0px 1px 3px 1px rgba(60, 64, 67, 0.15);\n",
              "      fill: #174EA6;\n",
              "    }\n",
              "\n",
              "    [theme=dark] .colab-df-convert {\n",
              "      background-color: #3B4455;\n",
              "      fill: #D2E3FC;\n",
              "    }\n",
              "\n",
              "    [theme=dark] .colab-df-convert:hover {\n",
              "      background-color: #434B5C;\n",
              "      box-shadow: 0px 1px 3px 1px rgba(0, 0, 0, 0.15);\n",
              "      filter: drop-shadow(0px 1px 2px rgba(0, 0, 0, 0.3));\n",
              "      fill: #FFFFFF;\n",
              "    }\n",
              "  </style>\n",
              "\n",
              "      <script>\n",
              "        const buttonEl =\n",
              "          document.querySelector('#df-d7fb413e-faca-44f3-a9b0-86fb15292bea button.colab-df-convert');\n",
              "        buttonEl.style.display =\n",
              "          google.colab.kernel.accessAllowed ? 'block' : 'none';\n",
              "\n",
              "        async function convertToInteractive(key) {\n",
              "          const element = document.querySelector('#df-d7fb413e-faca-44f3-a9b0-86fb15292bea');\n",
              "          const dataTable =\n",
              "            await google.colab.kernel.invokeFunction('convertToInteractive',\n",
              "                                                     [key], {});\n",
              "          if (!dataTable) return;\n",
              "\n",
              "          const docLinkHtml = 'Like what you see? Visit the ' +\n",
              "            '<a target=\"_blank\" href=https://colab.research.google.com/notebooks/data_table.ipynb>data table notebook</a>'\n",
              "            + ' to learn more about interactive tables.';\n",
              "          element.innerHTML = '';\n",
              "          dataTable['output_type'] = 'display_data';\n",
              "          await google.colab.output.renderOutput(dataTable, element);\n",
              "          const docLink = document.createElement('div');\n",
              "          docLink.innerHTML = docLinkHtml;\n",
              "          element.appendChild(docLink);\n",
              "        }\n",
              "      </script>\n",
              "    </div>\n",
              "  </div>\n",
              "  "
            ]
          },
          "metadata": {},
          "execution_count": 93
        }
      ]
    },
    {
      "cell_type": "markdown",
      "source": [
        "Задержка рейса зависит от компании авиаперевозчика: так F9 = Frontier Airlines Inc. показывает худший результат (ожидать вылета придется на ~50 минут дольше), а HA = Hawaiian Airlines Inc наоборот - лучший (ожидание вылета ~20 минут)."
      ],
      "metadata": {
        "id": "OTfExCKdHLnk"
      }
    },
    {
      "cell_type": "markdown",
      "source": [
        "# Связь количества авиаперевозок с предыдущим результатом?"
      ],
      "metadata": {
        "id": "e8e_vX1aHnmR"
      }
    },
    {
      "cell_type": "code",
      "source": [
        "n_flights = sum(df.groupby('AIRLINE').size())\n",
        "fig = plt.figure(figsize = (10,10))\n",
        "\n",
        "plt.title('Соотношение числа авиаперелетов для авиакомпаний', fontsize=16)\n",
        "plt.pie(df.groupby('AIRLINE').size().sort_values()[::-1]/n_flights, labels=df.groupby('AIRLINE').size().sort_values()[::-1].index, autopct='%1.1f%%')\n",
        "plt.show()"
      ],
      "metadata": {
        "colab": {
          "base_uri": "https://localhost:8080/",
          "height": 592
        },
        "id": "z47tSjuTH1uv",
        "outputId": "e8982624-767d-4f2b-b8d3-eedce676d5e1"
      },
      "execution_count": 102,
      "outputs": [
        {
          "output_type": "display_data",
          "data": {
            "text/plain": [
              "<Figure size 720x720 with 1 Axes>"
            ],
            "image/png": "[encoded data removed]"
          },
          "metadata": {}
        }
      ]
    },
    {
      "cell_type": "markdown",
      "source": [
        "Крупнейшие компании (по кол-ву перелетов) показывают среднее по рынку время ожидания (~40-45 минут), в то время как для менее крупных характерно меньшее время ожидания. Но компания F9 противоречит общему правилу и несмотря на малое количество перелетов совершает огромное количество задержек. Следовательно у F9 есть серьезные проблемы с организацией / качеством самолетов."
      ],
      "metadata": {
        "id": "77mvlDqDI_8q"
      }
    },
    {
      "cell_type": "markdown",
      "source": [
        "# Соотношение причин по которым задерживаются рейсы"
      ],
      "metadata": {
        "id": "mLaoZ1ElJ6Iz"
      }
    },
    {
      "cell_type": "markdown",
      "source": [
        "При задержках менее 15 минут причины не указываются, поэтому рассмотрим рейсы, для которых задержка отправления составила больше 15 минут."
      ],
      "metadata": {
        "id": "bRhM__KnKMyI"
      }
    },
    {
      "cell_type": "code",
      "source": [
        "df = df[df['ARRIVAL_DELAY'] >= 15]\n",
        "df_new = df[['AIR_SYSTEM_DELAY', 'SECURITY_DELAY', 'AIRLINE_DELAY', \"LATE_AIRCRAFT_DELAY\", \"WEATHER_DELAY\"]].astype(int)\n",
        "fig = plt.figure(figsize = (10,10))\n",
        "plt.pie(df_new.sum(), labels=['Загруженность аэропорта', 'Безопасность', 'Авиакомпания', 'Состояние самолета', 'Погодные условия'], autopct='%1.2f%%')\n",
        "plt.show()"
      ],
      "metadata": {
        "colab": {
          "base_uri": "https://localhost:8080/",
          "height": 575
        },
        "id": "dCCSu0aQKdSc",
        "outputId": "8a5761f9-cc62-41ad-bd75-cd9c9769eabf"
      },
      "execution_count": 105,
      "outputs": [
        {
          "output_type": "display_data",
          "data": {
            "text/plain": [
              "<Figure size 720x720 with 1 Axes>"
            ],
            "image/png": "[encoded data removed]"
          },
          "metadata": {}
        }
      ]
    },
    {
      "cell_type": "markdown",
      "source": [
        "Погодные условия и проблемы с безопасностью реже всего влияют на задержку рейса. Чаще проблемы возникают с технической составляющей самолета, задержкой со стороны авиакомпании и загруженностью аэропорта. (Техническая часть вызвана также проблемами авиакомпании). Т.к. классификация точных причин задержек со стороны компании крайне разносторонняя, то проанализируем аэропорты и их загруженность."
      ],
      "metadata": {
        "id": "aM0M8qtzL5un"
      }
    },
    {
      "cell_type": "markdown",
      "source": [
        "# Загруженность аэропортов назначения\n",
        "\n"
      ],
      "metadata": {
        "id": "bEo4Qb0qNHg8"
      }
    },
    {
      "cell_type": "code",
      "source": [
        "df = df.loc[(df.ORIGIN_AIRPORT.apply(len) == 3)]\n",
        "dest_bad = df.groupby('DESTINATION_AIRPORT').mean(numeric_only=True)['ARRIVAL_DELAY'].sort_values(ascending=False).head(3)\n",
        "dest_good = df.groupby('DESTINATION_AIRPORT').mean(numeric_only=True)['ARRIVAL_DELAY'].sort_values(ascending=False).tail(3)\n",
        "\n",
        "plt.barh(y = dest_bad.index[::-1], width = dest_bad.values[::-1], color='purple')\n",
        "plt.xlabel(\"Средняя задержка, минуты\")\n",
        "plt.ylabel(\"Аэропорт прибытия\")\n",
        "plt.title(\"Рейтинг по среднему времени ожидания (худшие)\")\n",
        "plt.show()\n",
        "\n",
        "plt.barh(y = dest_good.index, width = dest_good.values, color='red')\n",
        "plt.xlabel(\"Средняя задержка, минуты\")\n",
        "plt.ylabel(\"Аэропорт прибытия\")\n",
        "plt.title(\"Рейтинг по среднему времени ожидания (лучшие)\")\n",
        "plt.show()"
      ],
      "metadata": {
        "colab": {
          "base_uri": "https://localhost:8080/",
          "height": 573
        },
        "id": "zjSYq6vmOE-u",
        "outputId": "22c8b0b9-2872-49f1-fcbc-8d0c2c097979"
      },
      "execution_count": 115,
      "outputs": [
        {
          "output_type": "display_data",
          "data": {
            "text/plain": [
              "<Figure size 432x288 with 1 Axes>"
            ],
            "image/png": "[encoded data removed]"
          },
          "metadata": {
            "needs_background": "light"
          }
        },
        {
          "output_type": "display_data",
          "data": {
            "text/plain": [
              "<Figure size 432x288 with 1 Axes>"
            ],
            "image/png": "[encoded data removed]"
          },
          "metadata": {
            "needs_background": "light"
          }
        }
      ]
    },
    {
      "cell_type": "markdown",
      "source": [
        "Удивительным оказывается то, что два худших аэропорта и лучший находятся в штате Миннесота, поэтому на этом этапе нельзя однозначно сделать вывод о связи времени задержки и загруженности направления (хотя бы территориального). Для ITO - Гавайи и PPG - Калифорния интуитивное понимание происходящего есть (Гавайи не самое популярное место для регулярных поездок, в то время как Калифорния один из самых густонаселенных штатов)."
      ],
      "metadata": {
        "id": "z5vIr-TYQI7E"
      }
    },
    {
      "cell_type": "markdown",
      "source": [
        "# Загруженность аэропортов отправления"
      ],
      "metadata": {
        "id": "yRvbC7_ETEfS"
      }
    },
    {
      "cell_type": "code",
      "source": [
        "df = df.loc[(df.ORIGIN_AIRPORT.apply(len) == 3)]\n",
        "dep_bad = df.groupby('ORIGIN_AIRPORT').mean(numeric_only=True)['DEPARTURE_DELAY'].sort_values(ascending=False).head(3)\n",
        "dep_good = df.groupby('ORIGIN_AIRPORT').mean(numeric_only=True)['DEPARTURE_DELAY'].sort_values(ascending=False).tail(3)\n",
        "\n",
        "\n",
        "plt.barh(y = dep_bad.index[::-1], width = dep_bad.values[::-1], color='purple')\n",
        "plt.xlabel(\"Средняя задержка, минуты\")\n",
        "plt.ylabel(\"Аэропорт отправки\")\n",
        "plt.title(\"Рейтинг по среднему времени ожидания (худшие)\")\n",
        "plt.show()\n",
        "\n",
        "plt.barh(y = dep_good.index, width = dep_good.values, color='red')\n",
        "plt.xlabel(\"Средняя задержка, минуты\")\n",
        "plt.ylabel(\"Аэропорт отправки\")\n",
        "plt.title(\"Рейтинг по среднему времени ожидания (лучшие)\")\n",
        "plt.show()"
      ],
      "metadata": {
        "colab": {
          "base_uri": "https://localhost:8080/",
          "height": 573
        },
        "id": "AEA_bZ_0TSIq",
        "outputId": "16c64975-2783-488b-ac93-7ef0c88bdd0c"
      },
      "execution_count": 117,
      "outputs": [
        {
          "output_type": "display_data",
          "data": {
            "text/plain": [
              "<Figure size 432x288 with 1 Axes>"
            ],
            "image/png": "[encoded data removed]"
          },
          "metadata": {
            "needs_background": "light"
          }
        },
        {
          "output_type": "display_data",
          "data": {
            "text/plain": [
              "<Figure size 432x288 with 1 Axes>"
            ],
            "image/png": "[encoded data removed]"
          },
          "metadata": {
            "needs_background": "light"
          }
        }
      ]
    },
    {
      "cell_type": "markdown",
      "source": [
        "Похоже, что VEL - один из аэропортов штата Миннесота компенсирует быстрое время посадки длительным временем ожидания. Один из самых несбалансированных логистически аэропортов. В следующем рассмотрении попытаемся осознать причину того, что аэропорт ITO является дважды лучшим."
      ],
      "metadata": {
        "id": "5d6s1h1VUM0E"
      }
    },
    {
      "cell_type": "markdown",
      "source": [
        "# Загруженность аэропортов по количеству рейсов"
      ],
      "metadata": {
        "id": "yvecmOIIVja2"
      }
    },
    {
      "cell_type": "code",
      "source": [
        "_AIRPORT = df.groupby('ORIGIN_AIRPORT').size().sort_values().head(20)\n",
        "\n",
        "_, ax = plt.subplots(figsize=(10,6))\n",
        "\n",
        "ax.bar(_AIRPORT.index, _AIRPORT)\n",
        "ax.set_xlabel(\"аэропорт\")\n",
        "ax.set_ylabel(\"Количество рейсов в год\")\n",
        "plt.show()\n",
        "\n",
        "_AIRPORT = df.groupby('ORIGIN_AIRPORT').size().sort_values().tail(20)\n",
        "\n",
        "_, ax = plt.subplots(figsize=(10,6))\n",
        "\n",
        "ax.bar(_AIRPORT.index, _AIRPORT)\n",
        "ax.set_xlabel(\"аэропорт\")\n",
        "ax.set_ylabel(\"Количество рейсов в год\")\n",
        "plt.show()"
      ],
      "metadata": {
        "colab": {
          "base_uri": "https://localhost:8080/",
          "height": 759
        },
        "id": "8FIVcOTSV77M",
        "outputId": "1b2d6e7c-e340-4c7b-dd97-acdd15805e57"
      },
      "execution_count": 131,
      "outputs": [
        {
          "output_type": "display_data",
          "data": {
            "text/plain": [
              "<Figure size 720x432 with 1 Axes>"
            ],
            "image/png": "[encoded data removed]"
          },
          "metadata": {
            "needs_background": "light"
          }
        },
        {
          "output_type": "display_data",
          "data": {
            "text/plain": [
              "<Figure size 720x432 with 1 Axes>"
            ],
            "image/png": "[encoded data removed]"
          },
          "metadata": {
            "needs_background": "light"
          }
        }
      ]
    },
    {
      "cell_type": "markdown",
      "source": [
        "Несмотря на низкую загруженность - VEL является (как получено выше) одним из самых несбалансировнных аэропортов, значит проблема вызвана им самим. Для остальных же результатов выше - проблемы также вызваны устройством и организацией самих аэропортов, т.к. их загруженность лежит на уровне (50 - 10000) полетов в год, что является средней загрузкой аэропорта в США."
      ],
      "metadata": {
        "id": "pQMGnREZXQwm"
      }
    },
    {
      "cell_type": "markdown",
      "source": [
        "# Связь задержки на пути и загруженностью самого пути:"
      ],
      "metadata": {
        "id": "AMK-VNuJYO9r"
      }
    },
    {
      "cell_type": "code",
      "source": [
        "df['ROUTE'] = df['ORIGIN_AIRPORT']  + \"->\" +  df['DESTINATION_AIRPORT']\n",
        "a = df.groupby('ROUTE').size().sort_values().tail(10)\n",
        "b = df.groupby('ROUTE')['AIRLINE_DELAY'].nunique().sort_values().tail(10)\n",
        "print(np.corrcoef(a,b))\n",
        "print(a,b)"
      ],
      "metadata": {
        "colab": {
          "base_uri": "https://localhost:8080/"
        },
        "id": "TWvJ_WAbYZSG",
        "outputId": "dbd97720-1a3f-42fa-d0a4-582f86cc9df0"
      },
      "execution_count": 137,
      "outputs": [
        {
          "output_type": "stream",
          "name": "stdout",
          "text": [
            "[[1.        0.9695624]\n",
            " [0.9695624 1.       ]]\n",
            "ROUTE\n",
            "LGA->ORD    1512\n",
            "ORD->DFW    1533\n",
            "ORD->SFO    1536\n",
            "LAX->JFK    1554\n",
            "ORD->LAX    1671\n",
            "LAX->LAS    1704\n",
            "ORD->LGA    1892\n",
            "LAS->LAX    1989\n",
            "LAX->SFO    2639\n",
            "SFO->LAX    2646\n",
            "dtype: int64 ROUTE\n",
            "BWI->ATL    139\n",
            "DFW->ATL    142\n",
            "LGA->ATL    142\n",
            "ORD->LAX    143\n",
            "SFO->LAX    145\n",
            "ORD->SFO    149\n",
            "LAX->HNL    149\n",
            "LAX->SFO    157\n",
            "JFK->LAX    164\n",
            "ORD->DFW    165\n",
            "Name: AIRLINE_DELAY, dtype: int64\n"
          ]
        }
      ]
    },
    {
      "cell_type": "markdown",
      "source": [
        "Загруженность пути вызывает задержки, что видно и из полученных результатов (многие элементы повторяются) и из корреляции 0.96"
      ],
      "metadata": {
        "id": "7M_e4cJ-ZJeP"
      }
    },
    {
      "cell_type": "markdown",
      "source": [
        "# Рассмотрим чем вызваны задержки во времени прибытия для аэропорта VEL:"
      ],
      "metadata": {
        "id": "LgyE8IaIZo3o"
      }
    },
    {
      "cell_type": "code",
      "source": [
        "fig = plt.figure(figsize = (10,10))\n",
        "plt.pie(df.loc[df[\"ORIGIN_AIRPORT\"]=='VEL'][['AIR_SYSTEM_DELAY', 'SECURITY_DELAY', 'AIRLINE_DELAY', \"LATE_AIRCRAFT_DELAY\", \"WEATHER_DELAY\"]].astype(int).sum(), labels=['Загруженность аэропорта', 'Безопасность', 'Авиакомпания', 'Состояние самолета', 'Погодные условия'], autopct='%1.2f%%')\n",
        "plt.show()"
      ],
      "metadata": {
        "colab": {
          "base_uri": "https://localhost:8080/",
          "height": 575
        },
        "id": "mgr7JxxfZx-G",
        "outputId": "5939155c-6b21-49dc-9af5-a45422b96b4e"
      },
      "execution_count": 144,
      "outputs": [
        {
          "output_type": "display_data",
          "data": {
            "text/plain": [
              "<Figure size 720x720 with 1 Axes>"
            ],
            "image/png": "[encoded data removed]"
          },
          "metadata": {}
        }
      ]
    },
    {
      "cell_type": "markdown",
      "source": [
        "VEL = Valdez Airport. Время задержки в основном вызвано авиакомпаниями и состоянием их самолетов, а не логистикой самого аэропорта."
      ],
      "metadata": {
        "id": "tBD6s112agfd"
      }
    }
  ],
  "metadata": {
    "colab": {
      "provenance": []
    },
    "kernelspec": {
      "display_name": "Python 3",
      "language": "python",
      "name": "python3"
    },
    "language_info": {
      "codemirror_mode": {
        "name": "ipython",
        "version": 3
      },
      "file_extension": ".py",
      "mimetype": "text/x-python",
      "name": "python",
      "nbconvert_exporter": "python",
      "pygments_lexer": "ipython3",
      "version": "3.7.0"
    },
    "accelerator": "GPU",
    "gpuClass": "standard"
  },
  "nbformat": 4,
  "nbformat_minor": 0
}