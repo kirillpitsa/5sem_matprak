{
  "cells": [
    {
      "cell_type": "markdown",
      "metadata": {
        "id": "WBnN_NnRbLQx"
      },
      "source": [
        "# Библиотека Numpy"
      ]
    },
    {
      "cell_type": "markdown",
      "metadata": {
        "id": "kO_pWZKCbLRY"
      },
      "source": [
        "### Homework"
      ]
    },
    {
      "cell_type": "markdown",
      "metadata": {
        "id": "Hgj41PZPbLRY"
      },
      "source": [
        "1. Создайте матрицу 5x5 со значениями 1,2,3,4 под главной диагональю. Остальные значения - нули.\n",
        "\n",
        "2. Создайте двумерный массив 10x3, заполненный случайными значениями. В каждой строке выберите значение, наиболее близкое к 0.5.\n",
        "\n",
        "3. Создайте двумерный массив 6x6, заполненный случайными значениями. Сумму по каждой строке поделите на максимальный элемент из столбца с тем же индексом.\n",
        "\n",
        "4. На примере массива x = np.array([6, 2, 0, 3, 0, 0, 5, 7, 0]) найдите максимальный элемент в массиве среди элементов, перед которыми стоит ноль.\n",
        "\n",
        "5. Пусть заданы два массива x = np.ones(10) и i = np.array([0, 1, 2, 3, 5, 5, 5, 8]). Прибавьте единицу к тем элементам массива x, индексы которых указаны в массиве i. В случае, если некоторый индекс встретился в массиве i несколько раз, прибавьте к соответствующему элементу массива x число вхождений данного индекса в массив i.\n",
        "\n",
        "6. Сколько вы можете предложить способов округлить значения в массиве до ближайшего целого?\n",
        " \n",
        "7. Написать функцию, реализующую алгоритм kNN.\n",
        "\n",
        "    Входом в функцию является\n",
        "    * train_X - матрица признаков обучающего датасета\n",
        "    * train_Y - массив классов обучающего датасета\n",
        "    * test_X - матрица признаков тестового датасета\n",
        "    * k - число соседей\n",
        "    \n",
        "   Выход:\n",
        "   * массив той же, что и test_X, содержащий классы для тестового датасета\n",
        "   \n",
        "   **Фунция должна содержать не более 1 цикла for/while!**\n",
        "   **Стремитесь  обойтись как можно меньшим количеством строк кода.**\n",
        "    \n",
        "8. Применить kNN на выборкe ```test_images``` для разных K. Посчитать точность классификации (accuracy) и выбрать оптимальное К."
      ]
    },
    {
      "cell_type": "code",
      "execution_count": null,
      "metadata": {
        "id": "XLiiy4LBbLRZ",
        "outputId": "9ca5390a-3956-406e-f658-33c24fd88e36",
        "colab": {
          "base_uri": "https://localhost:8080/"
        }
      },
      "outputs": [
        {
          "output_type": "execute_result",
          "data": {
            "text/plain": [
              "array([[0., 0., 0., 0., 0.],\n",
              "       [1., 0., 0., 0., 0.],\n",
              "       [0., 2., 0., 0., 0.],\n",
              "       [0., 0., 3., 0., 0.],\n",
              "       [0., 0., 0., 4., 0.]])"
            ]
          },
          "metadata": {},
          "execution_count": 29
        }
      ],
      "source": [
        "#Задача 1\n",
        "import numpy as np\n",
        "b = np.zeros((5,5))\n",
        "b[1:,:-1] = np.diag(np.arange(1,5))\n",
        "b"
      ]
    },
    {
      "cell_type": "code",
      "source": [
        "#Задача 2\n",
        "a = np.random.rand(10,3)\n",
        "print(a)\n",
        "print(a[np.arange(10), np.argmin(abs(a - 0.5), axis = 1)])"
      ],
      "metadata": {
        "colab": {
          "base_uri": "https://localhost:8080/"
        },
        "id": "WuY-_Gb0gkGF",
        "outputId": "8d5ee0b8-ca94-460a-9039-485745964e52"
      },
      "execution_count": null,
      "outputs": [
        {
          "output_type": "stream",
          "name": "stdout",
          "text": [
            "[[0.80212931 0.99515958 0.95264434]\n",
            " [0.39349264 0.10742617 0.78942923]\n",
            " [0.37366254 0.15879685 0.74067071]\n",
            " [0.28498354 0.0915068  0.44677836]\n",
            " [0.41330256 0.1872204  0.38957941]\n",
            " [0.99338117 0.89797811 0.18267938]\n",
            " [0.01118381 0.05425659 0.81047228]\n",
            " [0.81944212 0.57656056 0.45426889]\n",
            " [0.58202098 0.78090361 0.49547939]\n",
            " [0.57533609 0.94650462 0.46307631]]\n",
            "[0.80212931 0.39349264 0.37366254 0.44677836 0.41330256 0.18267938\n",
            " 0.81047228 0.45426889 0.49547939 0.46307631]\n"
          ]
        }
      ]
    },
    {
      "cell_type": "code",
      "source": [
        "#Задача 3\n",
        "a = np.random.rand(6,6)\n",
        "b = np.divide(np.sum(a, axis = 1), a[np.arange(6), np.argmax(a, axis = 0)])\n",
        "b"
      ],
      "metadata": {
        "colab": {
          "base_uri": "https://localhost:8080/"
        },
        "id": "qkjaTCWUgloF",
        "outputId": "540f5496-3834-4687-f628-b7f5e3d020ea"
      },
      "execution_count": null,
      "outputs": [
        {
          "output_type": "execute_result",
          "data": {
            "text/plain": [
              "array([ 3.36591523, 10.29203072,  3.48755113, 17.04754629,  4.22859737,\n",
              "        7.78693831])"
            ]
          },
          "metadata": {},
          "execution_count": 51
        }
      ]
    },
    {
      "cell_type": "code",
      "source": [
        "#Задача 4\n",
        "x = np.array([6, 2, 0, 3, 0, 0, 5, 7, 0])\n",
        "ind = np.where(x == 0)[0] + 1\n",
        "print(np.max(x[ind[ind < np.size(x)]]))"
      ],
      "metadata": {
        "colab": {
          "base_uri": "https://localhost:8080/"
        },
        "id": "EhsLaC2Xs9ej",
        "outputId": "99b3ccf0-b399-40e0-d11f-96760363467e"
      },
      "execution_count": null,
      "outputs": [
        {
          "output_type": "stream",
          "name": "stdout",
          "text": [
            "5\n"
          ]
        }
      ]
    },
    {
      "cell_type": "code",
      "source": [
        "#Задача 5\n",
        "x = np.ones(10)\n",
        "i = np.array([0, 1, 2, 3, 5, 5, 5, 8])\n",
        "a = unique, counts = np.unique(i, return_counts=True)\n",
        "x[unique] += counts\n",
        "print(x)"
      ],
      "metadata": {
        "colab": {
          "base_uri": "https://localhost:8080/"
        },
        "id": "HBPiWDcZusbE",
        "outputId": "c354f1e6-4d75-4a83-b316-2b66606f1d2d"
      },
      "execution_count": null,
      "outputs": [
        {
          "output_type": "stream",
          "name": "stdout",
          "text": [
            "[2. 2. 2. 2. 1. 4. 1. 1. 2. 1.]\n"
          ]
        }
      ]
    },
    {
      "cell_type": "code",
      "source": [
        "#Задача 6\n",
        "a - массив\n",
        "1) np.around(a, 0)\n",
        "2) np.rint()\n",
        "3) писать алгоритм ищущий дробные части, после сравнение с 0.5 и +- в зависимости от этого"
      ],
      "metadata": {
        "id": "1Ls7-rp7wqgD"
      },
      "execution_count": null,
      "outputs": []
    },
    {
      "cell_type": "code",
      "source": [
        "#Задача 7 (реализовать kNN)\n",
        "def classifyKNN (train_X, train_Y, test_X, k):\n",
        "  predictions = []\n",
        "  for test in test_X:\n",
        "    #если train_X - некоторая матрица (пусть координаты из R3), каждому элементу в ней отвечает строка,\n",
        "    #тогда dist - столбец из расстояний от каждого из элементов train_X до test\n",
        "    dist = np.sum(np.sqrt((test - train_X) ** 2), axis = 1);\n",
        "    #сортирую по расстоянию индексы и отбираю \"принадлежность к классу\" первых k элементов\n",
        "    labels = train_Y[np.argsort(dist)[:k]]\n",
        "    #добавляю встречающийся наиболее часто\n",
        "    a = unique, counts = np.unique(labels, return_counts=True)\n",
        "    predictions.append(unique[np.argsort(counts)][-1:])\n",
        "\n",
        "  return np.array(predictions)"
      ],
      "metadata": {
        "id": "BMbP6h4TxxUj"
      },
      "execution_count": 48,
      "outputs": []
    },
    {
      "cell_type": "code",
      "source": [
        "#Задача 8\n",
        "from sklearn.datasets import fetch_openml\n",
        "import numpy as np\n",
        "\n",
        "\n",
        "#Загрузка может занять около минуты\n",
        "images, labels = fetch_openml('mnist_784', return_X_y=True, as_frame=False)"
      ],
      "metadata": {
        "id": "OnSpN4SJ6kJV"
      },
      "execution_count": 49,
      "outputs": []
    },
    {
      "cell_type": "code",
      "source": [
        "train_size = 1000\n",
        "train_images = images[:train_size]\n",
        "train_labels = labels[:train_size]\n",
        "test_size = 100\n",
        "test_images = images[-test_size:]\n",
        "test_labels = labels[-test_size:]\n",
        "\n",
        "accuracy = np.zeros(50)\n",
        "for k in range(1,50):\n",
        "  a = classifyKNN(train_images, train_labels ,test_images, k).reshape(1,-1)[0]\n",
        "  accuracy[k] = np.sum(test_labels == a)/test_size\n",
        "print(accuracy[1:])"
      ],
      "metadata": {
        "colab": {
          "base_uri": "https://localhost:8080/"
        },
        "id": "l-zd_ucJg2Xm",
        "outputId": "89fee8b5-d36f-47df-ea8f-5291157720b2"
      },
      "execution_count": 50,
      "outputs": [
        {
          "output_type": "stream",
          "name": "stdout",
          "text": [
            "[0.94 0.89 0.9  0.89 0.88 0.88 0.86 0.88 0.89 0.87 0.87 0.87 0.88 0.87\n",
            " 0.86 0.85 0.85 0.85 0.84 0.84 0.83 0.84 0.83 0.83 0.82 0.81 0.83 0.82\n",
            " 0.82 0.82 0.82 0.85 0.83 0.83 0.82 0.81 0.8  0.81 0.8  0.79 0.78 0.78\n",
            " 0.77 0.78 0.77 0.79 0.78 0.78 0.77]\n"
          ]
        }
      ]
    }
  ],
  "metadata": {
    "anaconda-cloud": {},
    "kernelspec": {
      "display_name": "Python 3",
      "language": "python",
      "name": "python3"
    },
    "language_info": {
      "codemirror_mode": {
        "name": "ipython",
        "version": 3
      },
      "file_extension": ".py",
      "mimetype": "text/x-python",
      "name": "python",
      "nbconvert_exporter": "python",
      "pygments_lexer": "ipython3",
      "version": "3.7.0"
    },
    "colab": {
      "provenance": []
    }
  },
  "nbformat": 4,
  "nbformat_minor": 0
}
